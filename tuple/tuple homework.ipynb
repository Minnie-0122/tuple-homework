{
 "cells": [
  {
   "cell_type": "code",
   "execution_count": 1,
   "id": "d66e8e58",
   "metadata": {},
   "outputs": [
    {
     "name": "stdout",
     "output_type": "stream",
     "text": [
      "('patato', 'tomato', 'cabbage', 'spinach')\n",
      "('pineapple', 'orange', 'blueberry', 'cherry')\n"
     ]
    }
   ],
   "source": [
    "tuple1=('patato','tomato','cabbage','spinach')\n",
    "tuple2=('pineapple','orange','blueberry','cherry')\n",
    "print(tuple1)\n",
    "print(tuple2)"
   ]
  },
  {
   "cell_type": "code",
   "execution_count": 2,
   "id": "de1f91a8",
   "metadata": {},
   "outputs": [
    {
     "name": "stdout",
     "output_type": "stream",
     "text": [
      "('patato', 'tomato', 'cabbage', 'spinach', 'pineapple', 'orange', 'blueberry', 'cherry')\n"
     ]
    }
   ],
   "source": [
    "fruits_vegetables=tuple1+tuple2\n",
    "print(fruits_vegetables)"
   ]
  },
  {
   "cell_type": "code",
   "execution_count": 10,
   "id": "0f322510",
   "metadata": {},
   "outputs": [
    {
     "data": {
      "text/plain": [
       "8"
      ]
     },
     "execution_count": 10,
     "metadata": {},
     "output_type": "execute_result"
    }
   ],
   "source": [
    "len(fruits_vegetables)"
   ]
  },
  {
   "cell_type": "code",
   "execution_count": 5,
   "id": "0b2f10af",
   "metadata": {},
   "outputs": [
    {
     "name": "stdout",
     "output_type": "stream",
     "text": [
      "('patato', 'tomato', 'cabbage', 'spinach', 'pineapple', 'orange', 'blueberry', 'cherry', 'mushroom', 'cola')\n"
     ]
    }
   ],
   "source": [
    "food_tuple=tuple1+tuple2+('mushroom','cola')\n",
    "print(food_tuple)"
   ]
  },
  {
   "cell_type": "code",
   "execution_count": 9,
   "id": "1e50ebe7",
   "metadata": {},
   "outputs": [
    {
     "name": "stdout",
     "output_type": "stream",
     "text": [
      "['patato', 'tomato', 'cabbage', 'spinach', 'pineapple', 'orange', 'blueberry', 'cherry']\n",
      "mushroom\n",
      "cola\n"
     ]
    }
   ],
   "source": [
    "*fruits_vegetables,mushroom,cola = food_tuple\n",
    "print(fruits_vegetables)\n",
    "print(mushroom)\n",
    "print(cola)"
   ]
  },
  {
   "cell_type": "code",
   "execution_count": 11,
   "id": "afb05775",
   "metadata": {},
   "outputs": [
    {
     "name": "stdout",
     "output_type": "stream",
     "text": [
      "['patato', 'tomato', 'cabbage', 'spinach', 'pineapple', 'orange', 'blueberry', 'cherry', 'mushroom', 'cola']\n"
     ]
    }
   ],
   "source": [
    "food_list=list(food_tuple)\n",
    "print(food_list)"
   ]
  },
  {
   "cell_type": "code",
   "execution_count": 12,
   "id": "7ae08200",
   "metadata": {},
   "outputs": [
    {
     "name": "stdout",
     "output_type": "stream",
     "text": [
      "('tomato', 'cabbage', 'spinach')\n"
     ]
    }
   ],
   "source": [
    "print(food_tuple[1:4])"
   ]
  },
  {
   "cell_type": "code",
   "execution_count": 13,
   "id": "2da2adc9",
   "metadata": {},
   "outputs": [
    {
     "name": "stdout",
     "output_type": "stream",
     "text": [
      "('patato', 'tomato', 'cabbage', 'spinach', 'pineapple', 'orange', 'blueberry')\n"
     ]
    }
   ],
   "source": [
    "print(food_tuple[:-3]) "
   ]
  },
  {
   "cell_type": "code",
   "execution_count": 14,
   "id": "9fec830a",
   "metadata": {},
   "outputs": [
    {
     "name": "stdout",
     "output_type": "stream",
     "text": [
      "['patato', 'tomato', 'cabbage']\n"
     ]
    }
   ],
   "source": [
    "print(food_list[0:3])"
   ]
  },
  {
   "cell_type": "code",
   "execution_count": 15,
   "id": "4e9eaad8",
   "metadata": {},
   "outputs": [
    {
     "name": "stdout",
     "output_type": "stream",
     "text": [
      "['cherry', 'mushroom', 'cola']\n"
     ]
    }
   ],
   "source": [
    "print(food_list[7:10])"
   ]
  },
  {
   "cell_type": "code",
   "execution_count": 16,
   "id": "92c46c7d",
   "metadata": {},
   "outputs": [],
   "source": [
    "del food_tuple"
   ]
  },
  {
   "cell_type": "code",
   "execution_count": 17,
   "id": "a74cadc3",
   "metadata": {},
   "outputs": [
    {
     "name": "stdout",
     "output_type": "stream",
     "text": [
      "False\n",
      "True\n"
     ]
    }
   ],
   "source": [
    "asian_countries = ('India','China','Singapore','Thailand','Indonesia')\n",
    "print('Finland' in asian_countries)\n",
    "print('India' in asian_countries)   "
   ]
  },
  {
   "cell_type": "code",
   "execution_count": null,
   "id": "4b1a145d",
   "metadata": {},
   "outputs": [],
   "source": []
  }
 ],
 "metadata": {
  "kernelspec": {
   "display_name": "Python 3",
   "language": "python",
   "name": "python3"
  },
  "language_info": {
   "codemirror_mode": {
    "name": "ipython",
    "version": 3
   },
   "file_extension": ".py",
   "mimetype": "text/x-python",
   "name": "python",
   "nbconvert_exporter": "python",
   "pygments_lexer": "ipython3",
   "version": "3.8.8"
  }
 },
 "nbformat": 4,
 "nbformat_minor": 5
}
